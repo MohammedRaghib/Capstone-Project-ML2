{
 "cells": [
  {
   "cell_type": "code",
   "execution_count": 12,
   "id": "initial_imports",
   "metadata": {},
   "outputs": [],
   "source": [
    "import pandas as pd\n",
    "import numpy as np\n",
    "from sklearn.model_selection import train_test_split, GridSearchCV\n",
    "from sklearn.feature_extraction.text import TfidfVectorizer\n",
    "from sklearn.preprocessing import OneHotEncoder, StandardScaler\n",
    "from sklearn.compose import ColumnTransformer\n",
    "from sklearn.pipeline import Pipeline\n",
    "from sklearn.ensemble import GradientBoostingClassifier\n",
    "from sklearn.metrics import classification_report, confusion_matrix, accuracy_score, f1_score\n",
    "import matplotlib.pyplot as plt\n",
    "import seaborn as sns\n",
    "import warnings\n",
    "warnings.filterwarnings('ignore')"
   ]
  },
  {
   "cell_type": "code",
   "execution_count": 13,
   "id": "load_data",
   "metadata": {},
   "outputs": [],
   "source": [
    "train_df = pd.read_csv(\"./Data/train_clean.csv\")\n",
    "valid_df = pd.read_csv(\"./Data/valid_clean.csv\")"
   ]
  },
  {
   "cell_type": "code",
   "execution_count": 14,
   "id": "prepare_features",
   "metadata": {},
   "outputs": [],
   "source": [
    "X_train = train_df.drop(columns=[\"ID\", \"Label\"])\n",
    "y_train = train_df[\"Label\"]\n",
    "\n",
    "X_valid = valid_df.drop(columns=[\"ID\", \"Label\"])\n",
    "y_valid = valid_df[\"Label\"]"
   ]
  },
  {
   "cell_type": "code",
   "execution_count": 15,
   "id": "define_columns",
   "metadata": {},
   "outputs": [],
   "source": [
    "text_col = \"Statement\"\n",
    "cat_cols = [\"Party Affiliation\", \"Speaker Job Title\", \"State Info\"]\n",
    "num_cols = [\"char_count\", \"word_count\", \"avg_word_length\", \"true_ratio\", \"false_ratio\"]"
   ]
  },
  {
   "cell_type": "code",
   "execution_count": 16,
   "id": "create_preprocessor",
   "metadata": {},
   "outputs": [],
   "source": [
    "text_transformer = TfidfVectorizer(max_features=5000, ngram_range=(1, 2))\n",
    "\n",
    "cat_transformer = OneHotEncoder(handle_unknown=\"ignore\")\n",
    "\n",
    "num_transformer = StandardScaler()\n",
    "\n",
    "preprocessor = ColumnTransformer(\n",
    "    transformers=[\n",
    "        (\"text\", text_transformer, text_col),\n",
    "        (\"cat\", cat_transformer, cat_cols),\n",
    "        (\"num\", num_transformer, num_cols)\n",
    "    ]\n",
    ")"
   ]
  },
  {
   "cell_type": "code",
   "execution_count": 17,
   "id": "create_gradient_boosting_model",
   "metadata": {},
   "outputs": [],
   "source": [
    "gradient_boosting_model = Pipeline([\n",
    "    (\"preprocess\", preprocessor),\n",
    "    (\"gb\", GradientBoostingClassifier(\n",
    "        n_estimators=150,          \n",
    "        learning_rate=0.1,          \n",
    "        max_depth=3,             \n",
    "        min_samples_split=50,       \n",
    "        min_samples_leaf=20,      \n",
    "        subsample=0.7,             \n",
    "        max_features=0.5, \n",
    "        random_state=42\n",
    "    ))\n",
    "])"
   ]
  },
  {
   "cell_type": "code",
   "execution_count": null,
   "id": "aa86d7e8",
   "metadata": {},
   "outputs": [],
   "source": [
    "param_grid = {\n",
    "    'gb__n_estimators': [100, 150, 200],\n",
    "    'gb__learning_rate': [0.05, 0.1, 0.15],\n",
    "    'gb__max_depth': [3, 4, 5],\n",
    "    'gb__min_samples_split': [20, 30, 50],\n",
    "    'gb__subsample': [0.7, 0.8, 0.9]\n",
    "}\n",
    "\n",
    "grid_search = GridSearchCV(\n",
    "    gradient_boosting_model, \n",
    "    param_grid, \n",
    "    cv=3, \n",
    "    scoring='accuracy',\n",
    "    n_jobs=-1\n",
    ")\n",
    "grid_search.fit(X_train, y_train)"
   ]
  },
  {
   "cell_type": "code",
   "execution_count": null,
   "id": "train_model",
   "metadata": {},
   "outputs": [
    {
     "name": "stdout",
     "output_type": "stream",
     "text": [
      "Training Gradient Boosting model...\n",
      "Training completed!\n"
     ]
    }
   ],
   "source": [
    "print(\"Training Gradient Boosting model...\")\n",
    "gradient_boosting_model.fit(X_train, y_train)\n",
    "print(\"Training completed!\")"
   ]
  },
  {
   "cell_type": "code",
   "execution_count": null,
   "id": "training_predictions",
   "metadata": {},
   "outputs": [
    {
     "name": "stdout",
     "output_type": "stream",
     "text": [
      "Training Results:\n",
      "              precision    recall  f1-score   support\n",
      "\n",
      " barely-true       0.62      0.34      0.44      1654\n",
      "       false       0.45      0.67      0.54      1995\n",
      "   half-true       0.46      0.69      0.55      2114\n",
      " mostly-true       0.58      0.63      0.60      1962\n",
      "  pants-fire       0.78      0.26      0.39       839\n",
      "        true       0.68      0.31      0.43      1676\n",
      "\n",
      "    accuracy                           0.52     10240\n",
      "   macro avg       0.59      0.48      0.49     10240\n",
      "weighted avg       0.57      0.52      0.51     10240\n",
      "\n",
      "Training Accuracy: 0.52099609375\n"
     ]
    }
   ],
   "source": [
    "y_train_pred = gradient_boosting_model.predict(X_train)\n",
    "\n",
    "print(\"Training Results:\")\n",
    "print(classification_report(y_train, y_train_pred))\n",
    "print(\"Training Accuracy:\", accuracy_score(y_train, y_train_pred))"
   ]
  },
  {
   "cell_type": "code",
   "execution_count": null,
   "id": "validation_predictions",
   "metadata": {},
   "outputs": [
    {
     "name": "stdout",
     "output_type": "stream",
     "text": [
      "Validation Results:\n",
      "              precision    recall  f1-score   support\n",
      "\n",
      " barely-true       0.32      0.14      0.19       237\n",
      "       false       0.32      0.49      0.39       263\n",
      "   half-true       0.32      0.52      0.40       248\n",
      " mostly-true       0.47      0.48      0.48       251\n",
      "  pants-fire       0.33      0.07      0.11       116\n",
      "        true       0.26      0.14      0.18       169\n",
      "\n",
      "    accuracy                           0.35      1284\n",
      "   macro avg       0.34      0.31      0.29      1284\n",
      "weighted avg       0.34      0.35      0.32      1284\n",
      "\n",
      "Validation Accuracy: 0.34579439252336447\n",
      "Macro F1 Score: 0.2906401643807656\n"
     ]
    }
   ],
   "source": [
    "y_valid_pred = gradient_boosting_model.predict(X_valid)\n",
    "\n",
    "print(\"Validation Results:\")\n",
    "print(classification_report(y_valid, y_valid_pred))\n",
    "print(\"Validation Accuracy:\", accuracy_score(y_valid, y_valid_pred))\n",
    "print(\"Macro F1 Score:\", f1_score(y_valid, y_valid_pred, average='macro'))"
   ]
  },
  {
   "cell_type": "code",
   "execution_count": null,
   "id": "confusion_matrix",
   "metadata": {},
   "outputs": [
    {
     "data": {
      "image/png": "[encoded data removed]",
      "text/plain": [
       "<Figure size 800x600 with 2 Axes>"
      ]
     },
     "metadata": {},
     "output_type": "display_data"
    }
   ],
   "source": [
    "cm = confusion_matrix(y_valid, y_valid_pred, labels=gradient_boosting_model.classes_)\n",
    "plt.figure(figsize=(8,6))\n",
    "sns.heatmap(cm, annot=True, fmt=\"d\", xticklabels=gradient_boosting_model.classes_, yticklabels=gradient_boosting_model.classes_, cmap=\"Blues\")\n",
    "plt.xlabel(\"Predicted\")\n",
    "plt.ylabel(\"Actual\")\n",
    "plt.title(\"Confusion Matrix - Gradient Boosting\")\n",
    "plt.show()"
   ]
  },
  {
   "cell_type": "code",
   "execution_count": null,
   "id": "model_summary",
   "metadata": {},
   "outputs": [
    {
     "name": "stdout",
     "output_type": "stream",
     "text": [
      "\n",
      "=== MODEL SUMMARY ===\n",
      "Model: gradient_boosting\n",
      "Preprocessing: basic\n",
      "Vectorizer: tfidf_standard\n",
      "Training Accuracy: 0.521\n",
      "Validation Accuracy: 0.3458\n",
      "F1 Macro Score: 0.2906\n"
     ]
    }
   ],
   "source": [
    "print(\"\\n=== MODEL SUMMARY ===\")\n",
    "print(\"Model: gradient_boosting\")\n",
    "print(\"Preprocessing: basic\")\n",
    "print(\"Vectorizer: tfidf_standard\")\n",
    "print(\"Training Accuracy:\", round(accuracy_score(y_train, y_train_pred), 4))\n",
    "print(\"Validation Accuracy:\", round(accuracy_score(y_valid, y_valid_pred), 4))\n",
    "print(\"F1 Macro Score:\", round(f1_score(y_valid, y_valid_pred, average='macro'), 4))"
   ]
  }
 ],
 "metadata": {
  "kernelspec": {
   "display_name": "env (3.13.1)",
   "language": "python",
   "name": "python3"
  },
  "language_info": {
   "codemirror_mode": {
    "name": "ipython",
    "version": 3
   },
   "file_extension": ".py",
   "mimetype": "text/x-python",
   "name": "python",
   "nbconvert_exporter": "python",
   "pygments_lexer": "ipython3",
   "version": "3.13.1"
  }
 },
 "nbformat": 4,
 "nbformat_minor": 5
}
