{
 "cells": [
  {
   "cell_type": "code",
   "execution_count": 82,
   "id": "initial_imports",
   "metadata": {},
   "outputs": [],
   "source": [
    "import pandas as pd\n",
    "import numpy as np\n",
    "from sklearn.model_selection import train_test_split, GridSearchCV\n",
    "from sklearn.feature_extraction.text import TfidfVectorizer\n",
    "from sklearn.preprocessing import OneHotEncoder, StandardScaler\n",
    "from sklearn.compose import ColumnTransformer\n",
    "from sklearn.pipeline import Pipeline\n",
    "from sklearn.ensemble import GradientBoostingClassifier\n",
    "from sklearn.metrics import classification_report, confusion_matrix, accuracy_score, f1_score\n",
    "import matplotlib.pyplot as plt\n",
    "import seaborn as sns\n",
    "from sklearn.feature_selection import SelectKBest, f_classif\n",
    "import warnings\n",
    "warnings.filterwarnings('ignore')"
   ]
  },
  {
   "cell_type": "code",
   "execution_count": 83,
   "id": "load_data",
   "metadata": {},
   "outputs": [],
   "source": [
    "train_df = pd.read_csv(\"./Data/train_clean.csv\")\n",
    "valid_df = pd.read_csv(\"./Data/valid_clean.csv\")"
   ]
  },
  {
   "cell_type": "code",
   "execution_count": 84,
   "id": "prepare_features",
   "metadata": {},
   "outputs": [],
   "source": [
    "X_train = train_df.drop(columns=[\"ID\", \"Label\"])\n",
    "y_train = train_df[\"Label\"]\n",
    "\n",
    "X_valid = valid_df.drop(columns=[\"ID\", \"Label\"])\n",
    "y_valid = valid_df[\"Label\"]"
   ]
  },
  {
   "cell_type": "code",
   "execution_count": 85,
   "id": "define_columns",
   "metadata": {},
   "outputs": [],
   "source": [
    "text_col = \"Statement\"\n",
    "cat_cols = [\"Party Affiliation\", \"Speaker Job Title\", \"State Info\"]\n",
    "num_cols = [\"char_count\", \"word_count\", \"avg_word_length\", \"true_ratio\", \"false_ratio\"]"
   ]
  },
  {
   "cell_type": "code",
   "execution_count": 86,
   "id": "create_preprocessor",
   "metadata": {},
   "outputs": [],
   "source": [
    "text_transformer = TfidfVectorizer(\n",
    "    max_features=3000,\n",
    "    ngram_range=(1, 2),\n",
    "    min_df=5,           \n",
    "    max_df=0.7,         \n",
    "    stop_words='english'\n",
    ")\n",
    "\n",
    "cat_transformer = OneHotEncoder(handle_unknown=\"ignore\")\n",
    "\n",
    "num_transformer = StandardScaler()\n",
    "\n",
    "\n",
    "preprocessor = ColumnTransformer(\n",
    "    transformers=[\n",
    "        (\"text\", text_transformer, text_col),\n",
    "        (\"cat\", cat_transformer, cat_cols),\n",
    "        (\"num\", num_transformer, num_cols)\n",
    "    ],\n",
    "    remainder='drop'\n",
    ")"
   ]
  },
  {
   "cell_type": "code",
   "execution_count": 87,
   "id": "create_gradient_boosting_model",
   "metadata": {},
   "outputs": [],
   "source": [
    "gradient_boosting_model = Pipeline([\n",
    "    (\"preprocess\", preprocessor),\n",
    "    (\"gb\", GradientBoostingClassifier(\n",
    "        n_estimators=100,           # Reduced number of trees\n",
    "        learning_rate=0.05,         # Lower learning rate\n",
    "        max_depth=2,                # Shallower trees\n",
    "        min_samples_split=100,      # More samples required to split\n",
    "        min_samples_leaf=50,        # More samples per leaf\n",
    "        subsample=0.6,              # Lower subsampling ratio\n",
    "        max_features='sqrt',        # Use sqrt of features for each tree\n",
    "        random_state=42,\n",
    "        validation_fraction=0.1,    # Use 10% for early stopping\n",
    "        n_iter_no_change=5,         # Stop if no improvement for 5 iterations\n",
    "        tol=1e-4                    # Tolerance for early stopping\n",
    "    ))\n",
    "])"
   ]
  },
  {
   "cell_type": "code",
   "execution_count": 88,
   "id": "aa86d7e8",
   "metadata": {},
   "outputs": [],
   "source": [
    "param_grid = {\n",
    "    'gb__n_estimators': [80, 100, 120],\n",
    "    'gb__learning_rate': [0.05, 0.1],\n",
    "    'gb__max_depth': [2, 3],\n",
    "    'gb__min_samples_split': [50, 100],\n",
    "    'gb__min_samples_leaf': [30, 50],\n",
    "    'gb__subsample': [0.6, 0.7],\n",
    "    'gb__max_features': ['sqrt', 0.3]\n",
    "}\n",
    "\n",
    "grid_search = GridSearchCV(\n",
    "    gradient_boosting_model, \n",
    "    param_grid, \n",
    "    cv=5,  \n",
    "    scoring='f1_macro', \n",
    "    n_jobs=-1,\n",
    "    verbose=1\n",
    ")"
   ]
  },
  {
   "cell_type": "code",
   "execution_count": 89,
   "id": "train_model",
   "metadata": {},
   "outputs": [
    {
     "name": "stdout",
     "output_type": "stream",
     "text": [
      "Training Gradient Boosting model...\n",
      "Training completed!\n"
     ]
    }
   ],
   "source": [
    "print(\"Training Gradient Boosting model...\")\n",
    "gradient_boosting_model.fit(X_train, y_train)\n",
    "print(\"Training completed!\")"
   ]
  },
  {
   "cell_type": "code",
   "execution_count": 90,
   "id": "training_predictions",
   "metadata": {},
   "outputs": [
    {
     "name": "stdout",
     "output_type": "stream",
     "text": [
      "Training Results:\n",
      "              precision    recall  f1-score   support\n",
      "\n",
      " barely-true       0.49      0.03      0.06      1654\n",
      "       false       0.35      0.58      0.43      1995\n",
      "   half-true       0.31      0.63      0.41      2114\n",
      " mostly-true       0.48      0.55      0.51      1962\n",
      "  pants-fire       0.75      0.01      0.01       839\n",
      "        true       0.60      0.08      0.14      1676\n",
      "\n",
      "    accuracy                           0.37     10240\n",
      "   macro avg       0.50      0.31      0.26     10240\n",
      "weighted avg       0.46      0.37      0.30     10240\n",
      "\n",
      "Training Accuracy: 0.36650390625\n"
     ]
    }
   ],
   "source": [
    "y_train_pred = gradient_boosting_model.predict(X_train)\n",
    "\n",
    "print(\"Training Results:\")\n",
    "print(classification_report(y_train, y_train_pred))\n",
    "print(\"Training Accuracy:\", accuracy_score(y_train, y_train_pred))"
   ]
  },
  {
   "cell_type": "code",
   "execution_count": 91,
   "id": "validation_predictions",
   "metadata": {},
   "outputs": [
    {
     "name": "stdout",
     "output_type": "stream",
     "text": [
      "Validation Results:\n",
      "              precision    recall  f1-score   support\n",
      "\n",
      " barely-true       0.22      0.01      0.02       237\n",
      "       false       0.32      0.51      0.39       263\n",
      "   half-true       0.26      0.59      0.37       248\n",
      " mostly-true       0.49      0.51      0.50       251\n",
      "  pants-fire       0.00      0.00      0.00       116\n",
      "        true       0.38      0.06      0.10       169\n",
      "\n",
      "    accuracy                           0.33      1284\n",
      "   macro avg       0.28      0.28      0.23      1284\n",
      "weighted avg       0.30      0.33      0.27      1284\n",
      "\n",
      "Validation Accuracy: 0.3294392523364486\n",
      "Macro F1 Score: 0.2292917651729934\n"
     ]
    }
   ],
   "source": [
    "y_valid_pred = gradient_boosting_model.predict(X_valid)\n",
    "\n",
    "print(\"Validation Results:\")\n",
    "print(classification_report(y_valid, y_valid_pred))\n",
    "print(\"Validation Accuracy:\", accuracy_score(y_valid, y_valid_pred))\n",
    "print(\"Macro F1 Score:\", f1_score(y_valid, y_valid_pred, average='macro'))"
   ]
  },
  {
   "cell_type": "code",
   "execution_count": 92,
   "id": "confusion_matrix",
   "metadata": {},
   "outputs": [
    {
     "data": {
      "image/png": "[encoded data removed]",
      "text/plain": [
       "<Figure size 800x600 with 2 Axes>"
      ]
     },
     "metadata": {},
     "output_type": "display_data"
    }
   ],
   "source": [
    "cm = confusion_matrix(y_valid, y_valid_pred, labels=gradient_boosting_model.classes_)\n",
    "plt.figure(figsize=(8,6))\n",
    "sns.heatmap(cm, annot=True, fmt=\"d\", xticklabels=gradient_boosting_model.classes_, yticklabels=gradient_boosting_model.classes_, cmap=\"Blues\")\n",
    "plt.xlabel(\"Predicted\")\n",
    "plt.ylabel(\"Actual\")\n",
    "plt.title(\"Confusion Matrix - Gradient Boosting\")\n",
    "plt.show()"
   ]
  },
  {
   "cell_type": "code",
   "execution_count": 93,
   "id": "model_summary",
   "metadata": {},
   "outputs": [
    {
     "name": "stdout",
     "output_type": "stream",
     "text": [
      "\n",
      "=== MODEL SUMMARY ===\n",
      "Model: gradient_boosting\n",
      "Preprocessing: basic\n",
      "Vectorizer: tfidf_standard\n",
      "Training Accuracy: 0.3665\n",
      "Validation Accuracy: 0.3294\n",
      "F1 Macro Score: 0.2293\n"
     ]
    }
   ],
   "source": [
    "print(\"\\n=== MODEL SUMMARY ===\")\n",
    "print(\"Model: gradient_boosting\")\n",
    "print(\"Preprocessing: basic\")\n",
    "print(\"Vectorizer: tfidf_standard\")\n",
    "print(\"Training Accuracy:\", round(accuracy_score(y_train, y_train_pred), 4))\n",
    "print(\"Validation Accuracy:\", round(accuracy_score(y_valid, y_valid_pred), 4))\n",
    "print(\"F1 Macro Score:\", round(f1_score(y_valid, y_valid_pred, average='macro'), 4))"
   ]
  }
 ],
 "metadata": {
  "kernelspec": {
   "display_name": "env (3.13.1)",
   "language": "python",
   "name": "python3"
  },
  "language_info": {
   "codemirror_mode": {
    "name": "ipython",
    "version": 3
   },
   "file_extension": ".py",
   "mimetype": "text/x-python",
   "name": "python",
   "nbconvert_exporter": "python",
   "pygments_lexer": "ipython3",
   "version": "3.13.1"
  }
 },
 "nbformat": 4,
 "nbformat_minor": 5
}
